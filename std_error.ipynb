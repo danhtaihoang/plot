{
 "cells": [
  {
   "cell_type": "code",
   "execution_count": 1,
   "metadata": {},
   "outputs": [],
   "source": [
    "import numpy as np\n",
    "import pandas as pd\n",
    "import matplotlib.pyplot as plt\n",
    "import os,sys,time"
   ]
  },
  {
   "cell_type": "code",
   "execution_count": 2,
   "metadata": {},
   "outputs": [],
   "source": [
    "n_subsets = 30"
   ]
  },
  {
   "cell_type": "code",
   "execution_count": 3,
   "metadata": {},
   "outputs": [
    {
     "data": {
      "text/html": [
       "<div>\n",
       "<style scoped>\n",
       "    .dataframe tbody tr th:only-of-type {\n",
       "        vertical-align: middle;\n",
       "    }\n",
       "\n",
       "    .dataframe tbody tr th {\n",
       "        vertical-align: top;\n",
       "    }\n",
       "\n",
       "    .dataframe thead th {\n",
       "        text-align: right;\n",
       "    }\n",
       "</style>\n",
       "<table border=\"1\" class=\"dataframe\">\n",
       "  <thead>\n",
       "    <tr style=\"text-align: right;\">\n",
       "      <th></th>\n",
       "      <th>cohort</th>\n",
       "      <th>n_sign_genes_mean</th>\n",
       "      <th>n_sign_genes_std_error</th>\n",
       "    </tr>\n",
       "  </thead>\n",
       "  <tbody>\n",
       "    <tr>\n",
       "      <th>0</th>\n",
       "      <td>KIRC</td>\n",
       "      <td>3987</td>\n",
       "      <td>160</td>\n",
       "    </tr>\n",
       "    <tr>\n",
       "      <th>1</th>\n",
       "      <td>KIRP</td>\n",
       "      <td>3958</td>\n",
       "      <td>64</td>\n",
       "    </tr>\n",
       "    <tr>\n",
       "      <th>2</th>\n",
       "      <td>LUSC</td>\n",
       "      <td>1478</td>\n",
       "      <td>83</td>\n",
       "    </tr>\n",
       "    <tr>\n",
       "      <th>3</th>\n",
       "      <td>LUAD</td>\n",
       "      <td>3009</td>\n",
       "      <td>82</td>\n",
       "    </tr>\n",
       "    <tr>\n",
       "      <th>4</th>\n",
       "      <td>BRCA</td>\n",
       "      <td>5139</td>\n",
       "      <td>117</td>\n",
       "    </tr>\n",
       "    <tr>\n",
       "      <th>5</th>\n",
       "      <td>LGG</td>\n",
       "      <td>5553</td>\n",
       "      <td>162</td>\n",
       "    </tr>\n",
       "    <tr>\n",
       "      <th>6</th>\n",
       "      <td>PRAD</td>\n",
       "      <td>3889</td>\n",
       "      <td>103</td>\n",
       "    </tr>\n",
       "    <tr>\n",
       "      <th>7</th>\n",
       "      <td>HNSC</td>\n",
       "      <td>3058</td>\n",
       "      <td>69</td>\n",
       "    </tr>\n",
       "    <tr>\n",
       "      <th>8</th>\n",
       "      <td>COAD</td>\n",
       "      <td>3440</td>\n",
       "      <td>98</td>\n",
       "    </tr>\n",
       "    <tr>\n",
       "      <th>9</th>\n",
       "      <td>STAD</td>\n",
       "      <td>3425</td>\n",
       "      <td>72</td>\n",
       "    </tr>\n",
       "    <tr>\n",
       "      <th>10</th>\n",
       "      <td>CESC</td>\n",
       "      <td>2124</td>\n",
       "      <td>32</td>\n",
       "    </tr>\n",
       "  </tbody>\n",
       "</table>\n",
       "</div>"
      ],
      "text/plain": [
       "   cohort  n_sign_genes_mean  n_sign_genes_std_error\n",
       "0    KIRC               3987                     160\n",
       "1    KIRP               3958                      64\n",
       "2    LUSC               1478                      83\n",
       "3    LUAD               3009                      82\n",
       "4    BRCA               5139                     117\n",
       "5     LGG               5553                     162\n",
       "6    PRAD               3889                     103\n",
       "7    HNSC               3058                      69\n",
       "8    COAD               3440                      98\n",
       "9    STAD               3425                      72\n",
       "10   CESC               2124                      32"
      ]
     },
     "execution_count": 3,
     "metadata": {},
     "output_type": "execute_result"
    }
   ],
   "source": [
    "df = pd.read_csv(f\"n_sign_genes_mean_{n_subsets}subsets_separate.csv\")\n",
    "df"
   ]
  },
  {
   "cell_type": "code",
   "execution_count": 4,
   "metadata": {},
   "outputs": [
    {
     "name": "stdout",
     "output_type": "stream",
     "text": [
      "mean: [3987 3958 1478 3009 5139 5553 3889 3058 3440 3425 2124]\n",
      "std_error: [160  64  83  82 117 162 103  69  98  72  32]\n"
     ]
    }
   ],
   "source": [
    "mean = df[\"n_sign_genes_mean\"].values\n",
    "print(\"mean:\", mean)\n",
    "\n",
    "std_error = df[\"n_sign_genes_std_error\"].values\n",
    "print(\"std_error:\", std_error)"
   ]
  },
  {
   "cell_type": "code",
   "execution_count": 5,
   "metadata": {},
   "outputs": [
    {
     "name": "stdout",
     "output_type": "stream",
     "text": [
      "['KIRC' 'KIRP' 'LUSC' 'LUAD' 'BRCA' 'LGG' 'PRAD' 'HNSC' 'COAD' 'STAD'\n",
      " 'CESC']\n",
      "11\n"
     ]
    }
   ],
   "source": [
    "cohorts = df[\"cohort\"].values\n",
    "print(cohorts)\n",
    "print(len(cohorts))"
   ]
  },
  {
   "cell_type": "code",
   "execution_count": 7,
   "metadata": {},
   "outputs": [
    {
     "name": "stdout",
     "output_type": "stream",
     "text": [
      "['KIRC (n=200)' 'KIRP (n=200)' 'LUSC (n=200)' 'LUAD (n=200)'\n",
      " 'BRCA (n=200)' 'LGG (n=200)' 'PRAD (n=200)' 'HNSC (n=200)' 'COAD (n=200)'\n",
      " 'STAD (n=200)' 'CESC (n=200)']\n",
      "11\n"
     ]
    }
   ],
   "source": [
    "#x_labels = df[\"cohort\"].values\n",
    "#x_labels = [\"Kidney (N=837)\", \"Lung (N=929)\", \"Breast (N=1043)\", \"LGG (N=479)\", \"Prostate (N=391)\", \n",
    "#            \"Head&Neck (N=419)\", \"COAD (N=370)\", \"STAD (N=281)\", \"Cervical (N=261)\"]\n",
    "\n",
    "#x_labels = [\"Kidney\", \"Lung\", \"Breast\", \"LGG\", \"Prostate\", \n",
    "#            \"Head&Neck\", \"COAD\", \"STAD\", \"Cervical\"]\n",
    "\n",
    "#x_labels = df[\"cohort\"].values\n",
    "\n",
    "#x_labels = [\"KIRC (n=200)\", \"KIRP (n=200)\", \"LUSC (n=200)\", \"LUAD (n=200)\", \"BRCA (n=200)\", \"LGG (n=200)\", \n",
    "#            \"PRAD (n=200)\", \"HNSC (n=200)\", \"COAD (n=200)\"]\n",
    "\n",
    "x_labels = np.array([f\"{x} (n=200)\" for x in cohorts])\n",
    "\n",
    "print(x_labels)\n",
    "print(len(x_labels))"
   ]
  },
  {
   "cell_type": "code",
   "execution_count": 11,
   "metadata": {},
   "outputs": [
    {
     "data": {
      "image/png": "[encoded data removed]",
      "text/plain": [
       "<Figure size 648x298.8 with 1 Axes>"
      ]
     },
     "metadata": {
      "needs_background": "light"
     },
     "output_type": "display_data"
    }
   ],
   "source": [
    "nx,ny = 1,1\n",
    "nfig = nx*ny\n",
    "fig, ax = plt.subplots(ny,nx,figsize=(nx*9,ny*4.15))\n",
    "\n",
    "n_bars = len(x_labels)\n",
    "    \n",
    "#x_labels = [\"Breast (N=1106)\", \"Lung (N=1018)\", \"LGG (N=805)\" , \"GBM (N=210)\", \"Kidney (N=859)\", \"COAD (N=374)\", \\\n",
    "#            \"READ (N=140)\",\"Prostate (N=438)\", \"STAD (N=302)\", \"ESCA (N=131)\", \"Head&Neck (N=430)\", \\\n",
    "#            \"Cervical (N=261)\", \"Pancreas (N=195)\"]\n",
    "    \n",
    "hatch2 = \"//\"\n",
    "for i in range(n_bars):\n",
    "    #if i == 0:\n",
    "    #    ax.bar(i-0.2,n_genes_p005[i],color=\"lightblue\",edgecolor=\"black\",width=0.4, label=\"cross validation in TCGA\")\n",
    "    #else:\n",
    "\n",
    "    #if i == 0:\n",
    "        #ax.bar(i-0.2,n_sign_genes_HE2RNA[i],color=\"white\",edgecolor=\"black\",hatch=hatch2,width=0.4,label=\"HE2RNA\")\n",
    "    #else:\n",
    "    #    ax.bar(i-0.2,n_sign_genes_HE2RNA[i],color=\"white\",edgecolor=\"black\",hatch=hatch2,width=0.4)\n",
    "        \n",
    "    if i == 0:\n",
    "        ax.bar(i,mean[i],yerr=std_error[i],color=\"lightblue\",\n",
    "               edgecolor=\"black\",ecolor='green',capsize=3,width=0.5, label=\"DeepPT\")\n",
    "    else:\n",
    "        ax.bar(i,mean[i],yerr=std_error[i],color=\"lightblue\",\n",
    "               edgecolor=\"black\",capsize=3,ecolor='green',width=0.5)\n",
    "        \n",
    "ax.set_xticks(np.arange(n_bars))\n",
    "ax.set_yticks(np.arange(0,22000,1000))\n",
    "\n",
    "ax.set_xticklabels(x_labels, rotation = 35, ha='right', rotation_mode='anchor')\n",
    "#ax.set_ylabel(\"#Genes with adjusted p-value < 0.05\")\n",
    "ax.set_ylabel(\"Number of significantly predicted genes\")\n",
    "ax.legend(ncol=2, loc=\"upper right\")\n",
    "ax.set_ylim(0,6000)\n",
    "ax.set_xlim(-0.5,10.5)\n",
    "\n",
    "ax.yaxis.grid(linestyle='--',linewidth='0.5',zorder=-1)\n",
    "ax.yaxis.set_zorder(level=-1)\n",
    "plt.tight_layout(h_pad=1, w_pad= 1.5)\n",
    "\n",
    "plt.savefig(f\"n_sign_genes_mean_{n_subsets}subsets_separate_v2.pdf\", format=\"pdf\", dpi=100)"
   ]
  },
  {
   "cell_type": "code",
   "execution_count": null,
   "metadata": {},
   "outputs": [],
   "source": []
  }
 ],
 "metadata": {
  "kernelspec": {
   "display_name": "Python 3 (ipykernel)",
   "language": "python",
   "name": "python3"
  },
  "language_info": {
   "codemirror_mode": {
    "name": "ipython",
    "version": 3
   },
   "file_extension": ".py",
   "mimetype": "text/x-python",
   "name": "python",
   "nbconvert_exporter": "python",
   "pygments_lexer": "ipython3",
   "version": "3.9.7"
  }
 },
 "nbformat": 4,
 "nbformat_minor": 4
}
